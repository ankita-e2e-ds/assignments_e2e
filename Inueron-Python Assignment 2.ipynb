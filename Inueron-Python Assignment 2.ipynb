{
 "cells": [
  {
   "cell_type": "markdown",
   "metadata": {},
   "source": [
    "# Task 1:"
   ]
  },
  {
   "cell_type": "markdown",
   "metadata": {},
   "source": [
    "1.1\n",
    "Write a Python Program to implement your own myreduce() function which works exactly like\n",
    "Python's built-in function reduce()"
   ]
  },
  {
   "cell_type": "code",
   "execution_count": 4,
   "metadata": {},
   "outputs": [
    {
     "name": "stdout",
     "output_type": "stream",
     "text": [
      " The sum of the elements=:17\n"
     ]
    }
   ],
   "source": [
    "# code showing the built in 'reduce' funcion\n",
    "from functools import reduce\n",
    "lis = [ 1 , 3, 5, 6, 2 ] \n",
    "print(\" The sum of the elements=:\",end=\"\")\n",
    "print(reduce(lambda a,b:a+b,lis))"
   ]
  },
  {
   "cell_type": "code",
   "execution_count": 5,
   "metadata": {},
   "outputs": [
    {
     "name": "stdout",
     "output_type": "stream",
     "text": [
      "17\n"
     ]
    }
   ],
   "source": [
    "# code showing myreduce function working in similar way\n",
    "def do_sum(x,y):\n",
    "    return x+y\n",
    "\n",
    "lis = [ 1 , 3, 5, 6, 2 ] \n",
    "def my_reduce(func,seq):\n",
    "    first=seq[0]\n",
    "    for i in seq[1:]:\n",
    "        first=func(first,i)\n",
    "    return first\n",
    "print(my_reduce(do_sum,lis))\n",
    "        "
   ]
  },
  {
   "cell_type": "markdown",
   "metadata": {},
   "source": [
    "1.2 Write a Python program to implement your own myfilter() function which works exactly like\n",
    "Python's built-in function filter()"
   ]
  },
  {
   "cell_type": "code",
   "execution_count": 17,
   "metadata": {},
   "outputs": [
    {
     "name": "stdout",
     "output_type": "stream",
     "text": [
      "Positive numbers are :[1, 3, 5]\n"
     ]
    }
   ],
   "source": [
    "# function that tests whether a number is positive or not \n",
    "def ispositive(x):\n",
    "    if (x<=0):\n",
    "        return False\n",
    "    else:\n",
    "        return True\n",
    "    \n",
    "lis=[0,1,-2,3,-4,5]\n",
    "\n",
    "def my_filter(func,seq):\n",
    "    k=[]\n",
    "    for i in seq:\n",
    "        if func(i):\n",
    "            k.append(i)\n",
    "    return k\n",
    "\n",
    "print(\"Positive numbers are :\",end=\"\")\n",
    "print(my_filter(ispositive,lis))\n",
    "        "
   ]
  },
  {
   "cell_type": "markdown",
   "metadata": {},
   "source": [
    "2.\n",
    "Implement List comprehensions to produce the following lists.\n",
    "Write List comprehensions to produce the following Lists\n",
    "a) ['A', 'C', 'A', 'D', 'G', 'I', ’L’, ‘ D’]\n",
    "b) ['x', 'xx', 'xxx', 'xxxx', 'y', 'yy', 'yyy', 'yyyy', 'z', 'zz', 'zzz', 'zzzz']\n",
    "c) ['x', 'y', 'z', 'xx', 'yy', 'zz', 'xxx', 'yyy', 'zzz', 'xxxx', 'yyyy', 'zzzz']\n",
    "d) [[2], [3], [4], [3], [4], [5], [4], [5], [6]]\n",
    "e) [[2, 3, 4, 5], [3, 4, 5, 6], [4, 5, 6, 7], [5, 6, 7, 8]]\n",
    "f) [(1, 1), (2, 1), (3, 1), (1, 2), (2, 2), (3, 2), (1, 3), (2, 3), (3, 3)]"
   ]
  },
  {
   "cell_type": "code",
   "execution_count": 48,
   "metadata": {},
   "outputs": [
    {
     "name": "stdout",
     "output_type": "stream",
     "text": [
      "['A', 'C', 'A', 'D', 'G', 'I', 'L', 'D']\n"
     ]
    }
   ],
   "source": [
    "#a)['A', 'C', 'A', 'D', 'G', 'I', ’L’, ‘ D’]\n",
    "str1=\"ACADGILD\"\n",
    "alpha_list=[i for i in str1]\n",
    "print(str(alpha_list))\n"
   ]
  },
  {
   "cell_type": "code",
   "execution_count": 55,
   "metadata": {},
   "outputs": [
    {
     "name": "stdout",
     "output_type": "stream",
     "text": [
      "['x', 'xx', 'xxx', 'xxxx', 'y', 'yy', 'yyy', 'yyyy', 'z', 'zz', 'zzz', 'zzzz']\n"
     ]
    }
   ],
   "source": [
    "# b)['x', 'xx', 'xxx', 'xxxx', 'y', 'yy', 'yyy', 'yyyy', 'z', 'zz', 'zzz', 'zzzz']\n",
    "lis=['x','y','z']\n",
    "s=[i*j for i in lis for j in range(1,5)]\n",
    "print(s)\n"
   ]
  },
  {
   "cell_type": "code",
   "execution_count": 56,
   "metadata": {},
   "outputs": [
    {
     "name": "stdout",
     "output_type": "stream",
     "text": [
      "['x', 'y', 'z', 'xx', 'yy', 'zz', 'xxx', 'yyy', 'zzz', 'xxxx', 'yyyy', 'zzzz']\n"
     ]
    }
   ],
   "source": [
    "#c) ['x', 'y', 'z', 'xx', 'yy', 'zz', 'xxx', 'yyy', 'zzz', 'xxxx', 'yyyy', 'zzzz']\n",
    "lis=['x','y','z']\n",
    "s=[i*j for i in range(1,5) for j in lis]\n",
    "print(s)\n"
   ]
  },
  {
   "cell_type": "code",
   "execution_count": 59,
   "metadata": {},
   "outputs": [
    {
     "name": "stdout",
     "output_type": "stream",
     "text": [
      "[[2], [3], [4], [3], [4], [5], [4], [5], [6]]\n"
     ]
    }
   ],
   "source": [
    "# d) [[2], [3], [4], [3], [4], [5], [4], [5], [6]]\n",
    "lis=[2,3,4]\n",
    "s=[[i+j] for i in lis for j in range(0,3)]\n",
    "print(s)"
   ]
  },
  {
   "cell_type": "code",
   "execution_count": 62,
   "metadata": {},
   "outputs": [
    {
     "name": "stdout",
     "output_type": "stream",
     "text": [
      "[[2, 3, 4, 5], [3, 4, 5, 6], [4, 5, 6, 7], [5, 6, 7, 8]]\n"
     ]
    }
   ],
   "source": [
    "# e) [[2, 3, 4, 5], [3, 4, 5, 6], [4, 5, 6, 7], [5, 6, 7, 8]]\n",
    "lis=[2,3,4,5]\n",
    "s=[ [i+j for i in lis] for j in range(0,4)]\n",
    "print(s)\n"
   ]
  },
  {
   "cell_type": "code",
   "execution_count": 64,
   "metadata": {},
   "outputs": [
    {
     "name": "stdout",
     "output_type": "stream",
     "text": [
      "[(1, 1), (2, 1), (3, 1), (1, 2), (2, 2), (3, 2), (1, 3), (2, 3), (3, 3)]\n"
     ]
    }
   ],
   "source": [
    "# f) [(1, 1), (2, 1), (3, 1), (1, 2), (2, 2), (3, 2), (1, 3), (2, 3), (3, 3)]\n",
    "t=(1,2,3)\n",
    "s=[(j,i) for i in t for j in range(1,4)]\n",
    "print(s)\n"
   ]
  },
  {
   "cell_type": "markdown",
   "metadata": {},
   "source": [
    "3. Implement a function longestWord() that takes a list of words and returns the longest one"
   ]
  },
  {
   "cell_type": "code",
   "execution_count": 37,
   "metadata": {},
   "outputs": [
    {
     "name": "stdout",
     "output_type": "stream",
     "text": [
      " The max length and biggest word is:(9, 'Exercises')\n"
     ]
    }
   ],
   "source": [
    "def lword(word_list):\n",
    "    length=0\n",
    "    bigword=[]\n",
    "    for i in word_list:\n",
    "        if(len(i)>length):\n",
    "            length=len(i)\n",
    "            bigword=i\n",
    "    return length,bigword\n",
    "    \n",
    "\n",
    "lis=[\"PHP\", \"Exercises\", \"Backend\"]\n",
    "print(\" The max length and biggest word is:\",end=\"\")\n",
    "print(lword(lis))\n",
    "    \n"
   ]
  },
  {
   "cell_type": "markdown",
   "metadata": {},
   "source": [
    "2.1\n",
    "Write a Python program using function concept that maps list of words into a list of integers\n",
    "representing the lengths of the corresponding words.\n",
    "Hint: If a list [ ab,cde,erty] is passed on to the python function output should come as [2,3,4]\n",
    "Here 2,3 and 4 are the lengths of the words in the list.\n"
   ]
  },
  {
   "cell_type": "code",
   "execution_count": 3,
   "metadata": {},
   "outputs": [
    {
     "name": "stdout",
     "output_type": "stream",
     "text": [
      "Words length in the list are:\n"
     ]
    },
    {
     "data": {
      "text/plain": [
       "[3, 9, 3]"
      ]
     },
     "execution_count": 3,
     "metadata": {},
     "output_type": "execute_result"
    }
   ],
   "source": [
    "def word_len(seq):\n",
    "    return list(map(lambda x:len(x),seq))\n",
    "   \n",
    "lis=[ 'Its','beautiful','day'] \n",
    "print(\"Words length in the list are:\")\n",
    "word_len(lis)"
   ]
  },
  {
   "cell_type": "markdown",
   "metadata": {},
   "source": [
    "2.2\n",
    "Write a Python function which takes a character (i.e. a string of length 1) and returns True if it is\n",
    "a vowel, False otherwise"
   ]
  },
  {
   "cell_type": "code",
   "execution_count": 7,
   "metadata": {},
   "outputs": [
    {
     "name": "stdout",
     "output_type": "stream",
     "text": [
      "False\n",
      "True\n"
     ]
    }
   ],
   "source": [
    "def vow_check(char):\n",
    "    all_vowels='aeiou'\n",
    "    return char in all_vowels\n",
    "   \n",
    "print(vow_check('j'))\n",
    "print(vow_check('a'))"
   ]
  },
  {
   "cell_type": "code",
   "execution_count": null,
   "metadata": {},
   "outputs": [],
   "source": []
  }
 ],
 "metadata": {
  "kernelspec": {
   "display_name": "Python 3",
   "language": "python",
   "name": "python3"
  },
  "language_info": {
   "codemirror_mode": {
    "name": "ipython",
    "version": 3
   },
   "file_extension": ".py",
   "mimetype": "text/x-python",
   "name": "python",
   "nbconvert_exporter": "python",
   "pygments_lexer": "ipython3",
   "version": "3.7.4"
  }
 },
 "nbformat": 4,
 "nbformat_minor": 2
}
