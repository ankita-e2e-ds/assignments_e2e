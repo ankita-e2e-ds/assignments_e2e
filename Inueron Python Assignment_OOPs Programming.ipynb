{
 "cells": [
  {
   "cell_type": "markdown",
   "metadata": {},
   "source": [
    "# Task 1: \n",
    "\n",
    "Question 1:\n",
    "\n",
    "        Write a function to compute 5/0 and use try/except to catch the exceptions"
   ]
  },
  {
   "cell_type": "code",
   "execution_count": 2,
   "metadata": {},
   "outputs": [
    {
     "name": "stdout",
     "output_type": "stream",
     "text": [
      "Enter an integer   \t 0\n",
      "division by zero\n"
     ]
    }
   ],
   "source": [
    "try:\n",
    "    val=int(input(\"Enter an integer   \\t \"))\n",
    "    res=5/val\n",
    "    print(\" The result is\",res)\n",
    "except Exception as e:\n",
    "    print(e)\n",
    "    "
   ]
  },
  {
   "cell_type": "markdown",
   "metadata": {},
   "source": [
    "# Question 2. \n",
    " \n",
    "Implement a Python program to generate all sentences where subject is in [\"Americans\", \"Indians\"] and verb is in [\"Play\", \"watch\"] and the object is in [\"Baseball\",\"cricket\"]. \n",
    " \n",
    "Hint: Subject,Verb and Object should be declared in the program as shown below. \n",
    " \n",
    "subjects=[\"Americans \",\"Indians\"] verbs=[\"play\",\"watch\"] objects=[\"Baseball\",\"Cricket\"] \n",
    "\n",
    "\n",
    "Output should come as below: \n",
    " \n",
    "Americans  play Baseball.\n",
    "\n",
    "Americans  play Cricket.\n",
    "\n",
    "Americans  watch Baseball.\n",
    "\n",
    "Americans  watch Cricket. \n",
    "\n",
    "Indians play Baseball. \n",
    "\n",
    "Indians play Cricket.\n",
    "\n",
    "Indians watch Baseball.\n",
    "\n",
    "Indians watch Cricket. \n"
   ]
  },
  {
   "cell_type": "code",
   "execution_count": 3,
   "metadata": {},
   "outputs": [],
   "source": [
    "subjects=[\"Americans \",\"Indians\"] \n",
    "verbs=[\"play\",\"watch\"] \n",
    "objects=[\"Baseball\",\"Cricket\"]"
   ]
  },
  {
   "cell_type": "code",
   "execution_count": 37,
   "metadata": {},
   "outputs": [],
   "source": [
    "combinations=[(s+\" \" + v+ \" \"+ o) for s in subjects for v in verbs for o in objects]"
   ]
  },
  {
   "cell_type": "code",
   "execution_count": 38,
   "metadata": {},
   "outputs": [
    {
     "name": "stdout",
     "output_type": "stream",
     "text": [
      "['Americans  play Baseball', 'Americans  play Cricket', 'Americans  watch Baseball', 'Americans  watch Cricket', 'Indians play Baseball', 'Indians play Cricket', 'Indians watch Baseball', 'Indians watch Cricket']\n"
     ]
    }
   ],
   "source": [
    "print(combinations)"
   ]
  },
  {
   "cell_type": "code",
   "execution_count": 39,
   "metadata": {},
   "outputs": [
    {
     "name": "stdout",
     "output_type": "stream",
     "text": [
      "Americans  play Baseball\n",
      "Americans  play Cricket\n",
      "Americans  watch Baseball\n",
      "Americans  watch Cricket\n",
      "Indians play Baseball\n",
      "Indians play Cricket\n",
      "Indians watch Baseball\n",
      "Indians watch Cricket\n"
     ]
    }
   ],
   "source": [
    "for i in combinations:\n",
    "    print(i)"
   ]
  },
  {
   "cell_type": "markdown",
   "metadata": {},
   "source": [
    "# Task 2:  \n",
    " \n",
    " \n",
    " \n",
    "Write a function so that the columns of the output matrix are powers of the input vector.  \n",
    "The order of the powers is determined by the increasing boolean argument. Specifically, when              increasing is False, the i-th output column is the input vector raised element-wise to the power                of N - i - 1.  \n",
    " \n",
    "HINT: Such a matrix with a geometric progression in each row is named for Alexandre Theophile Vandermonde. \n",
    " \n",
    " "
   ]
  },
  {
   "cell_type": "markdown",
   "metadata": {},
   "source": [
    "Parameters:\t\n",
    "x : array_like\n",
    "\n",
    "1-D input array.\n",
    "\n",
    "N : int, optional\n",
    "\n",
    "Order of (number of columns in) the output. If N is not specified, a square array is returned (N = len(x)).\n",
    "\n",
    "Returns:\t\n",
    "out : ndarray\n",
    "\n",
    "Van der Monde matrix of order N. The first column is x^(N-1), the second x^(N-2) and so forth.\n",
    "\n"
   ]
  },
  {
   "cell_type": "markdown",
   "metadata": {},
   "source": [
    "# Solution to the question"
   ]
  },
  {
   "cell_type": "code",
   "execution_count": 48,
   "metadata": {},
   "outputs": [],
   "source": [
    "## Iterate over each number in the input vector n times, n being the number of columns in the o/p matrix and output \n",
    "## an intermediate vector. Use diff order formula based on increasing and decreasing condition.\n",
    "## Reshape the intermediate vector using the size of the input vector (rows) and n (columns) to generate the o/p matrix. "
   ]
  },
  {
   "cell_type": "code",
   "execution_count": 50,
   "metadata": {},
   "outputs": [],
   "source": [
    "import numpy as np"
   ]
  },
  {
   "cell_type": "code",
   "execution_count": 70,
   "metadata": {},
   "outputs": [
    {
     "name": "stdout",
     "output_type": "stream",
     "text": [
      "Size of array 4\n",
      "----------\n",
      "Input array is  : [1 2 3 4] \n",
      "\n",
      "Number of columns  : 3 \n",
      "\n",
      "Vander matrix in decreasing order of power\n",
      "\n",
      " [[ 1  1  1]\n",
      " [ 4  2  1]\n",
      " [ 9  3  1]\n",
      " [16  4  1]]\n",
      "Vander matrix in increasing order of power \n",
      "\n",
      " [[ 1  1  1]\n",
      " [ 1  2  4]\n",
      " [ 1  3  9]\n",
      " [ 1  4 16]]\n"
     ]
    }
   ],
   "source": [
    "vect=np.array([1,2,3,4])\n",
    "print(\"Size of array\",vect.size)\n",
    "\n",
    "col=3\n",
    "def vander_matrix(arr,n,increasing=False):\n",
    "    if not increasing:\n",
    "        res_matrix=np.column_stack([x**(n-i-1) for x in arr for i in range(n)]).reshape(arr.size,n)\n",
    "    else:\n",
    "         res_matrix=np.column_stack([x**i for x in arr for i in range(n)]).reshape(arr.size,n)\n",
    "                \n",
    "    return res_matrix\n",
    "print(\"-\"*10)\n",
    "print(\"Input array is  :\",vect,\"\\n\")\n",
    "print(\"Number of columns  :\",col,\"\\n\")\n",
    "\n",
    "res_matrix_dec=vander_matrix(vect,col,False)\n",
    "res_matrix_inc=vander_matrix(vect,col,True)\n",
    "print(\"Vander matrix in decreasing order of power\\n\\n\",res_matrix_dec)\n",
    "\n",
    "print(\"Vander matrix in increasing order of power \\n\\n\",res_matrix_inc)\n",
    "        \n",
    "    \n"
   ]
  },
  {
   "cell_type": "code",
   "execution_count": null,
   "metadata": {},
   "outputs": [],
   "source": []
  }
 ],
 "metadata": {
  "kernelspec": {
   "display_name": "Python 3",
   "language": "python",
   "name": "python3"
  },
  "language_info": {
   "codemirror_mode": {
    "name": "ipython",
    "version": 3
   },
   "file_extension": ".py",
   "mimetype": "text/x-python",
   "name": "python",
   "nbconvert_exporter": "python",
   "pygments_lexer": "ipython3",
   "version": "3.7.4"
  }
 },
 "nbformat": 4,
 "nbformat_minor": 2
}
