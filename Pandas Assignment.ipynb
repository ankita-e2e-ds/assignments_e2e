{
 "cells": [
  {
   "cell_type": "code",
   "execution_count": 2,
   "metadata": {},
   "outputs": [],
   "source": [
    "import pandas as pd\n",
    "import numpy as np\n",
    "from random import randint"
   ]
  },
  {
   "cell_type": "code",
   "execution_count": 38,
   "metadata": {},
   "outputs": [
    {
     "data": {
      "text/plain": [
       "2019-01-01    4\n",
       "2019-01-02    0\n",
       "2019-01-03    3\n",
       "2019-01-04    2\n",
       "2019-01-05    2\n",
       "Freq: D, dtype: int32"
      ]
     },
     "execution_count": 38,
     "metadata": {},
     "output_type": "execute_result"
    }
   ],
   "source": [
    "# 1. Create a Datatime index containing all the weekdays days of year 2019 and assign a random number to each of them in a dataframe. \n",
    "ser=pd.Series(np.random.randint(0,5,5),index=pd.date_range('1-1-2019',periods=5,freq='D'))\n",
    "ser"
   ]
  },
  {
   "cell_type": "code",
   "execution_count": 3,
   "metadata": {
    "scrolled": true
   },
   "outputs": [
    {
     "name": "stdout",
     "output_type": "stream",
     "text": [
      "   Height  Weight\n",
      "0      23      71\n",
      "1      42      32\n",
      "2      55      48\n"
     ]
    }
   ],
   "source": [
    "# 2. Given Pandas series , height = [23,42,55] and weight = [71,32,48] . \n",
    "# Create a dataframe with height and weight as column names. \n",
    "\n",
    "data={'Height':[23,42,55],'Weight':[71,32,48]}\n",
    "df=pd.DataFrame(data)\n",
    "print(df)"
   ]
  },
  {
   "cell_type": "code",
   "execution_count": 4,
   "metadata": {},
   "outputs": [
    {
     "name": "stdout",
     "output_type": "stream",
     "text": [
      "Series 1:\n",
      "\n",
      "0    2\n",
      "1    3\n",
      "2    4\n",
      "3    5\n",
      "dtype: int64\n",
      "Series 2:\n",
      "\n",
      "0    5\n",
      "1    6\n",
      "2    7\n",
      "3    8\n",
      "dtype: int64\n",
      "0    2\n",
      "1    3\n",
      "2    4\n",
      "dtype: int64\n"
     ]
    }
   ],
   "source": [
    "# 3. How to get the items of series A not present in series B .From ser1 remove items present in ser2.\n",
    "ser1=pd.Series([2,3,4,5])\n",
    "ser2=pd.Series([5,6,7,8])\n",
    "print(\"Series 1:\\n\")\n",
    "print(ser1)\n",
    "print(\"Series 2:\\n\")\n",
    "print(ser2)\n",
    "res=ser1[~ser1.isin(ser2)]\n",
    "print(res)\n",
    "    "
   ]
  },
  {
   "cell_type": "code",
   "execution_count": 5,
   "metadata": {},
   "outputs": [],
   "source": [
    "# Questions on Titanic Dataset :"
   ]
  },
  {
   "cell_type": "code",
   "execution_count": 6,
   "metadata": {},
   "outputs": [
    {
     "data": {
      "text/html": [
       "<div>\n",
       "<style scoped>\n",
       "    .dataframe tbody tr th:only-of-type {\n",
       "        vertical-align: middle;\n",
       "    }\n",
       "\n",
       "    .dataframe tbody tr th {\n",
       "        vertical-align: top;\n",
       "    }\n",
       "\n",
       "    .dataframe thead th {\n",
       "        text-align: right;\n",
       "    }\n",
       "</style>\n",
       "<table border=\"1\" class=\"dataframe\">\n",
       "  <thead>\n",
       "    <tr style=\"text-align: right;\">\n",
       "      <th></th>\n",
       "      <th>PassengerId</th>\n",
       "      <th>Pclass</th>\n",
       "      <th>Name</th>\n",
       "      <th>Sex</th>\n",
       "      <th>Age</th>\n",
       "      <th>SibSp</th>\n",
       "      <th>Parch</th>\n",
       "      <th>Ticket</th>\n",
       "      <th>Fare</th>\n",
       "      <th>Cabin</th>\n",
       "      <th>Embarked</th>\n",
       "    </tr>\n",
       "  </thead>\n",
       "  <tbody>\n",
       "    <tr>\n",
       "      <td>0</td>\n",
       "      <td>892</td>\n",
       "      <td>3</td>\n",
       "      <td>Kelly, Mr. James</td>\n",
       "      <td>male</td>\n",
       "      <td>34.5</td>\n",
       "      <td>0</td>\n",
       "      <td>0</td>\n",
       "      <td>330911</td>\n",
       "      <td>7.8292</td>\n",
       "      <td>NaN</td>\n",
       "      <td>Q</td>\n",
       "    </tr>\n",
       "    <tr>\n",
       "      <td>1</td>\n",
       "      <td>893</td>\n",
       "      <td>3</td>\n",
       "      <td>Wilkes, Mrs. James (Ellen Needs)</td>\n",
       "      <td>female</td>\n",
       "      <td>47.0</td>\n",
       "      <td>1</td>\n",
       "      <td>0</td>\n",
       "      <td>363272</td>\n",
       "      <td>7.0000</td>\n",
       "      <td>NaN</td>\n",
       "      <td>S</td>\n",
       "    </tr>\n",
       "    <tr>\n",
       "      <td>2</td>\n",
       "      <td>894</td>\n",
       "      <td>2</td>\n",
       "      <td>Myles, Mr. Thomas Francis</td>\n",
       "      <td>male</td>\n",
       "      <td>62.0</td>\n",
       "      <td>0</td>\n",
       "      <td>0</td>\n",
       "      <td>240276</td>\n",
       "      <td>9.6875</td>\n",
       "      <td>NaN</td>\n",
       "      <td>Q</td>\n",
       "    </tr>\n",
       "    <tr>\n",
       "      <td>3</td>\n",
       "      <td>895</td>\n",
       "      <td>3</td>\n",
       "      <td>Wirz, Mr. Albert</td>\n",
       "      <td>male</td>\n",
       "      <td>27.0</td>\n",
       "      <td>0</td>\n",
       "      <td>0</td>\n",
       "      <td>315154</td>\n",
       "      <td>8.6625</td>\n",
       "      <td>NaN</td>\n",
       "      <td>S</td>\n",
       "    </tr>\n",
       "    <tr>\n",
       "      <td>4</td>\n",
       "      <td>896</td>\n",
       "      <td>3</td>\n",
       "      <td>Hirvonen, Mrs. Alexander (Helga E Lindqvist)</td>\n",
       "      <td>female</td>\n",
       "      <td>22.0</td>\n",
       "      <td>1</td>\n",
       "      <td>1</td>\n",
       "      <td>3101298</td>\n",
       "      <td>12.2875</td>\n",
       "      <td>NaN</td>\n",
       "      <td>S</td>\n",
       "    </tr>\n",
       "  </tbody>\n",
       "</table>\n",
       "</div>"
      ],
      "text/plain": [
       "   PassengerId  Pclass                                          Name     Sex  \\\n",
       "0          892       3                              Kelly, Mr. James    male   \n",
       "1          893       3              Wilkes, Mrs. James (Ellen Needs)  female   \n",
       "2          894       2                     Myles, Mr. Thomas Francis    male   \n",
       "3          895       3                              Wirz, Mr. Albert    male   \n",
       "4          896       3  Hirvonen, Mrs. Alexander (Helga E Lindqvist)  female   \n",
       "\n",
       "    Age  SibSp  Parch   Ticket     Fare Cabin Embarked  \n",
       "0  34.5      0      0   330911   7.8292   NaN        Q  \n",
       "1  47.0      1      0   363272   7.0000   NaN        S  \n",
       "2  62.0      0      0   240276   9.6875   NaN        Q  \n",
       "3  27.0      0      0   315154   8.6625   NaN        S  \n",
       "4  22.0      1      1  3101298  12.2875   NaN        S  "
      ]
     },
     "execution_count": 6,
     "metadata": {},
     "output_type": "execute_result"
    }
   ],
   "source": [
    "df=pd.read_csv(r'C:\\Datascience datasets\\titanic_test.csv')\n",
    "df.head()"
   ]
  },
  {
   "cell_type": "code",
   "execution_count": 7,
   "metadata": {},
   "outputs": [],
   "source": [
    "# 4. Compute the minimum, 25th percentile, median, 75th, and maximum of age in titanic dataset"
   ]
  },
  {
   "cell_type": "code",
   "execution_count": 8,
   "metadata": {
    "scrolled": true
   },
   "outputs": [
    {
     "data": {
      "text/plain": [
       "(418, 11)"
      ]
     },
     "execution_count": 8,
     "metadata": {},
     "output_type": "execute_result"
    }
   ],
   "source": [
    "# Shape of the dataframe\n",
    "df.shape\n"
   ]
  },
  {
   "cell_type": "code",
   "execution_count": 9,
   "metadata": {},
   "outputs": [
    {
     "data": {
      "text/html": [
       "<div>\n",
       "<style scoped>\n",
       "    .dataframe tbody tr th:only-of-type {\n",
       "        vertical-align: middle;\n",
       "    }\n",
       "\n",
       "    .dataframe tbody tr th {\n",
       "        vertical-align: top;\n",
       "    }\n",
       "\n",
       "    .dataframe thead th {\n",
       "        text-align: right;\n",
       "    }\n",
       "</style>\n",
       "<table border=\"1\" class=\"dataframe\">\n",
       "  <thead>\n",
       "    <tr style=\"text-align: right;\">\n",
       "      <th></th>\n",
       "      <th>PassengerId</th>\n",
       "      <th>Pclass</th>\n",
       "      <th>Age</th>\n",
       "      <th>SibSp</th>\n",
       "      <th>Parch</th>\n",
       "      <th>Fare</th>\n",
       "    </tr>\n",
       "  </thead>\n",
       "  <tbody>\n",
       "    <tr>\n",
       "      <td>count</td>\n",
       "      <td>418.000000</td>\n",
       "      <td>418.000000</td>\n",
       "      <td>332.000000</td>\n",
       "      <td>418.000000</td>\n",
       "      <td>418.000000</td>\n",
       "      <td>417.000000</td>\n",
       "    </tr>\n",
       "    <tr>\n",
       "      <td>mean</td>\n",
       "      <td>1100.500000</td>\n",
       "      <td>2.265550</td>\n",
       "      <td>30.272590</td>\n",
       "      <td>0.447368</td>\n",
       "      <td>0.392344</td>\n",
       "      <td>35.627188</td>\n",
       "    </tr>\n",
       "    <tr>\n",
       "      <td>std</td>\n",
       "      <td>120.810458</td>\n",
       "      <td>0.841838</td>\n",
       "      <td>14.181209</td>\n",
       "      <td>0.896760</td>\n",
       "      <td>0.981429</td>\n",
       "      <td>55.907576</td>\n",
       "    </tr>\n",
       "    <tr>\n",
       "      <td>min</td>\n",
       "      <td>892.000000</td>\n",
       "      <td>1.000000</td>\n",
       "      <td>0.170000</td>\n",
       "      <td>0.000000</td>\n",
       "      <td>0.000000</td>\n",
       "      <td>0.000000</td>\n",
       "    </tr>\n",
       "    <tr>\n",
       "      <td>25%</td>\n",
       "      <td>996.250000</td>\n",
       "      <td>1.000000</td>\n",
       "      <td>21.000000</td>\n",
       "      <td>0.000000</td>\n",
       "      <td>0.000000</td>\n",
       "      <td>7.895800</td>\n",
       "    </tr>\n",
       "    <tr>\n",
       "      <td>50%</td>\n",
       "      <td>1100.500000</td>\n",
       "      <td>3.000000</td>\n",
       "      <td>27.000000</td>\n",
       "      <td>0.000000</td>\n",
       "      <td>0.000000</td>\n",
       "      <td>14.454200</td>\n",
       "    </tr>\n",
       "    <tr>\n",
       "      <td>75%</td>\n",
       "      <td>1204.750000</td>\n",
       "      <td>3.000000</td>\n",
       "      <td>39.000000</td>\n",
       "      <td>1.000000</td>\n",
       "      <td>0.000000</td>\n",
       "      <td>31.500000</td>\n",
       "    </tr>\n",
       "    <tr>\n",
       "      <td>max</td>\n",
       "      <td>1309.000000</td>\n",
       "      <td>3.000000</td>\n",
       "      <td>76.000000</td>\n",
       "      <td>8.000000</td>\n",
       "      <td>9.000000</td>\n",
       "      <td>512.329200</td>\n",
       "    </tr>\n",
       "  </tbody>\n",
       "</table>\n",
       "</div>"
      ],
      "text/plain": [
       "       PassengerId      Pclass         Age       SibSp       Parch        Fare\n",
       "count   418.000000  418.000000  332.000000  418.000000  418.000000  417.000000\n",
       "mean   1100.500000    2.265550   30.272590    0.447368    0.392344   35.627188\n",
       "std     120.810458    0.841838   14.181209    0.896760    0.981429   55.907576\n",
       "min     892.000000    1.000000    0.170000    0.000000    0.000000    0.000000\n",
       "25%     996.250000    1.000000   21.000000    0.000000    0.000000    7.895800\n",
       "50%    1100.500000    3.000000   27.000000    0.000000    0.000000   14.454200\n",
       "75%    1204.750000    3.000000   39.000000    1.000000    0.000000   31.500000\n",
       "max    1309.000000    3.000000   76.000000    8.000000    9.000000  512.329200"
      ]
     },
     "execution_count": 9,
     "metadata": {},
     "output_type": "execute_result"
    }
   ],
   "source": [
    "# Description of dataframe\n",
    "df.describe()"
   ]
  },
  {
   "cell_type": "code",
   "execution_count": 10,
   "metadata": {},
   "outputs": [],
   "source": [
    "# We see: min=17 months; mean=30 years; Q1=21 years;Q2=27 yrs;Q3=39 yrs; max=76 yrs.\n",
    "# Thus we note that most of the passengers are between 21 to 39 years"
   ]
  },
  {
   "cell_type": "code",
   "execution_count": 11,
   "metadata": {},
   "outputs": [
    {
     "data": {
      "text/plain": [
       "0    283\n",
       "1    110\n",
       "2     14\n",
       "4      4\n",
       "3      4\n",
       "8      2\n",
       "5      1\n",
       "Name: SibSp, dtype: int64"
      ]
     },
     "execution_count": 11,
     "metadata": {},
     "output_type": "execute_result"
    }
   ],
   "source": [
    "# 5. How to get frequency counts of unique items of a series? Calculate the frequency counts of ‘SibSp’ column in titanic Dataset\n",
    "df['SibSp'].value_counts()"
   ]
  },
  {
   "cell_type": "code",
   "execution_count": 12,
   "metadata": {},
   "outputs": [
    {
     "name": "stdout",
     "output_type": "stream",
     "text": [
      "Top 2 frequencies\n"
     ]
    },
    {
     "data": {
      "text/plain": [
       "S    270\n",
       "C    102\n",
       "Q     46\n",
       "Name: Embarked, dtype: int64"
      ]
     },
     "execution_count": 12,
     "metadata": {},
     "output_type": "execute_result"
    }
   ],
   "source": [
    "# 6. Keep only top 2 most frequent values as it is and replace everything else as ‘Other’ in ‘Embarked’ \n",
    "# column of titanic dataset\n",
    "print(\"Top 2 frequencies\")\n",
    "df.Embarked.value_counts()\n"
   ]
  },
  {
   "cell_type": "code",
   "execution_count": 13,
   "metadata": {},
   "outputs": [
    {
     "data": {
      "text/plain": [
       "S        270\n",
       "C        102\n",
       "Other     46\n",
       "Name: Embarked, dtype: int64"
      ]
     },
     "execution_count": 13,
     "metadata": {},
     "output_type": "execute_result"
    }
   ],
   "source": [
    "info_freq=90\n",
    "info=dict(zip(*np.unique(df.Embarked,return_counts=True)))\n",
    "df.Embarked=df.Embarked.apply(lambda x:'Other' if info[x]<info_freq else x)\n",
    "df.Embarked.value_counts()\n",
    "          \n"
   ]
  },
  {
   "cell_type": "code",
   "execution_count": 14,
   "metadata": {},
   "outputs": [
    {
     "data": {
      "text/html": [
       "<div>\n",
       "<style scoped>\n",
       "    .dataframe tbody tr th:only-of-type {\n",
       "        vertical-align: middle;\n",
       "    }\n",
       "\n",
       "    .dataframe tbody tr th {\n",
       "        vertical-align: top;\n",
       "    }\n",
       "\n",
       "    .dataframe thead th {\n",
       "        text-align: right;\n",
       "    }\n",
       "</style>\n",
       "<table border=\"1\" class=\"dataframe\">\n",
       "  <thead>\n",
       "    <tr style=\"text-align: right;\">\n",
       "      <th></th>\n",
       "      <th>PassengerId</th>\n",
       "      <th>Pclass</th>\n",
       "      <th>Name</th>\n",
       "      <th>Sex</th>\n",
       "      <th>Age</th>\n",
       "      <th>SibSp</th>\n",
       "      <th>Parch</th>\n",
       "      <th>Ticket</th>\n",
       "      <th>Fare</th>\n",
       "      <th>Cabin</th>\n",
       "      <th>Embarked</th>\n",
       "    </tr>\n",
       "  </thead>\n",
       "  <tbody>\n",
       "    <tr>\n",
       "      <td>0</td>\n",
       "      <td>892</td>\n",
       "      <td>3</td>\n",
       "      <td>Kelly, Mr. James</td>\n",
       "      <td>male</td>\n",
       "      <td>34.5</td>\n",
       "      <td>0</td>\n",
       "      <td>0</td>\n",
       "      <td>330911</td>\n",
       "      <td>(7.796, 11.025]</td>\n",
       "      <td>NaN</td>\n",
       "      <td>Other</td>\n",
       "    </tr>\n",
       "    <tr>\n",
       "      <td>1</td>\n",
       "      <td>893</td>\n",
       "      <td>3</td>\n",
       "      <td>Wilkes, Mrs. James (Ellen Needs)</td>\n",
       "      <td>female</td>\n",
       "      <td>47.0</td>\n",
       "      <td>1</td>\n",
       "      <td>0</td>\n",
       "      <td>363272</td>\n",
       "      <td>(-0.001, 7.796]</td>\n",
       "      <td>NaN</td>\n",
       "      <td>S</td>\n",
       "    </tr>\n",
       "    <tr>\n",
       "      <td>2</td>\n",
       "      <td>894</td>\n",
       "      <td>2</td>\n",
       "      <td>Myles, Mr. Thomas Francis</td>\n",
       "      <td>male</td>\n",
       "      <td>62.0</td>\n",
       "      <td>0</td>\n",
       "      <td>0</td>\n",
       "      <td>240276</td>\n",
       "      <td>(7.796, 11.025]</td>\n",
       "      <td>NaN</td>\n",
       "      <td>Other</td>\n",
       "    </tr>\n",
       "    <tr>\n",
       "      <td>3</td>\n",
       "      <td>895</td>\n",
       "      <td>3</td>\n",
       "      <td>Wirz, Mr. Albert</td>\n",
       "      <td>male</td>\n",
       "      <td>27.0</td>\n",
       "      <td>0</td>\n",
       "      <td>0</td>\n",
       "      <td>315154</td>\n",
       "      <td>(7.796, 11.025]</td>\n",
       "      <td>NaN</td>\n",
       "      <td>S</td>\n",
       "    </tr>\n",
       "    <tr>\n",
       "      <td>4</td>\n",
       "      <td>896</td>\n",
       "      <td>3</td>\n",
       "      <td>Hirvonen, Mrs. Alexander (Helga E Lindqvist)</td>\n",
       "      <td>female</td>\n",
       "      <td>22.0</td>\n",
       "      <td>1</td>\n",
       "      <td>1</td>\n",
       "      <td>3101298</td>\n",
       "      <td>(11.025, 21.438]</td>\n",
       "      <td>NaN</td>\n",
       "      <td>S</td>\n",
       "    </tr>\n",
       "  </tbody>\n",
       "</table>\n",
       "</div>"
      ],
      "text/plain": [
       "   PassengerId  Pclass                                          Name     Sex  \\\n",
       "0          892       3                              Kelly, Mr. James    male   \n",
       "1          893       3              Wilkes, Mrs. James (Ellen Needs)  female   \n",
       "2          894       2                     Myles, Mr. Thomas Francis    male   \n",
       "3          895       3                              Wirz, Mr. Albert    male   \n",
       "4          896       3  Hirvonen, Mrs. Alexander (Helga E Lindqvist)  female   \n",
       "\n",
       "    Age  SibSp  Parch   Ticket              Fare Cabin Embarked  \n",
       "0  34.5      0      0   330911   (7.796, 11.025]   NaN    Other  \n",
       "1  47.0      1      0   363272   (-0.001, 7.796]   NaN        S  \n",
       "2  62.0      0      0   240276   (7.796, 11.025]   NaN    Other  \n",
       "3  27.0      0      0   315154   (7.796, 11.025]   NaN        S  \n",
       "4  22.0      1      1  3101298  (11.025, 21.438]   NaN        S  "
      ]
     },
     "execution_count": 14,
     "metadata": {},
     "output_type": "execute_result"
    }
   ],
   "source": [
    "# 7.  Bin the price column in titanic data set into 5 equal groups and get counts of each bin\n",
    "df['Fare']=pd.qcut(df['Fare'],q=5)\n",
    "df.head()\n"
   ]
  },
  {
   "cell_type": "code",
   "execution_count": 15,
   "metadata": {},
   "outputs": [
    {
     "name": "stdout",
     "output_type": "stream",
     "text": [
      "Counting each bin\n"
     ]
    },
    {
     "data": {
      "text/plain": [
       "(-0.001, 7.796]     85\n",
       "(46.62, 512.329]    84\n",
       "(21.438, 46.62]     83\n",
       "(11.025, 21.438]    83\n",
       "(7.796, 11.025]     82\n",
       "Name: Fare, dtype: int64"
      ]
     },
     "execution_count": 15,
     "metadata": {},
     "output_type": "execute_result"
    }
   ],
   "source": [
    "print(\"Counting each bin\")\n",
    "df['Fare'].value_counts()"
   ]
  },
  {
   "cell_type": "code",
   "execution_count": 16,
   "metadata": {},
   "outputs": [
    {
     "data": {
      "text/plain": [
       "PassengerId      0\n",
       "Pclass           0\n",
       "Name             0\n",
       "Sex              0\n",
       "Age             86\n",
       "SibSp            0\n",
       "Parch            0\n",
       "Ticket           0\n",
       "Fare             1\n",
       "Cabin          327\n",
       "Embarked         0\n",
       "dtype: int64"
      ]
     },
     "execution_count": 16,
     "metadata": {},
     "output_type": "execute_result"
    }
   ],
   "source": [
    "# 8. Count the number of missing values in each column\n",
    "df.isnull().sum()"
   ]
  },
  {
   "cell_type": "code",
   "execution_count": 17,
   "metadata": {},
   "outputs": [
    {
     "name": "stdout",
     "output_type": "stream",
     "text": [
      " 5th largest values is\n"
     ]
    },
    {
     "data": {
      "text/plain": [
       "64.0"
      ]
     },
     "execution_count": 17,
     "metadata": {},
     "output_type": "execute_result"
    }
   ],
   "source": [
    "# 9. Get the row number of the 5th largest value in the Age column of titanic dataset?\n",
    "print(\" 5th largest values is\")\n",
    "df.Age.nlargest(5).iloc[4]"
   ]
  },
  {
   "cell_type": "code",
   "execution_count": 18,
   "metadata": {},
   "outputs": [
    {
     "data": {
      "text/plain": [
       "96"
      ]
     },
     "execution_count": 18,
     "metadata": {},
     "output_type": "execute_result"
    }
   ],
   "source": [
    "df.Age.nlargest(5).idxmax()"
   ]
  },
  {
   "cell_type": "code",
   "execution_count": 19,
   "metadata": {},
   "outputs": [
    {
     "data": {
      "text/plain": [
       "PassengerId                                                  988\n",
       "Pclass                                                         1\n",
       "Name           Cavendish, Mrs. Tyrell William (Julia Florence...\n",
       "Sex                                                       female\n",
       "Age                                                           76\n",
       "SibSp                                                          1\n",
       "Parch                                                          0\n",
       "Ticket                                                     19877\n",
       "Fare                                            (46.62, 512.329]\n",
       "Cabin                                                        C46\n",
       "Embarked                                                       S\n",
       "Name: 96, dtype: object"
      ]
     },
     "execution_count": 19,
     "metadata": {},
     "output_type": "execute_result"
    }
   ],
   "source": [
    "df.loc[96]"
   ]
  },
  {
   "cell_type": "code",
   "execution_count": 20,
   "metadata": {},
   "outputs": [],
   "source": [
    "#10. Normalize all columns in a dataframe?\n",
    "# By default all columns in pandas datframe are normalized\n"
   ]
  },
  {
   "cell_type": "code",
   "execution_count": 21,
   "metadata": {},
   "outputs": [
    {
     "name": "stdout",
     "output_type": "stream",
     "text": [
      "Int64Index([0, 4, 5, 8], dtype='int64')\n"
     ]
    }
   ],
   "source": [
    "# 11. Get the indices of items of ser2 in ser1 as a list.\n",
    "ser1=pd.Series([10,9,6,5,3,1,12,8,13])\n",
    "ser2=pd.Series([1,3,10,13])\n",
    "result=ser1[ser1.isin(ser2)].index\n",
    "print(result)"
   ]
  },
  {
   "cell_type": "code",
   "execution_count": 22,
   "metadata": {},
   "outputs": [
    {
     "name": "stdout",
     "output_type": "stream",
     "text": [
      "0   2010-01-01 00:00:00\n",
      "1   2011-02-02 00:00:00\n",
      "2   2012-03-03 00:00:00\n",
      "3   2013-04-04 00:00:00\n",
      "4   2014-05-05 00:00:00\n",
      "5   2015-06-06 12:20:00\n",
      "dtype: datetime64[ns]\n"
     ]
    }
   ],
   "source": [
    "# 12. How to convert a series of date-strings to a timeseries?\n",
    "ser=pd.Series(['01Jan2010','02-02-2011','20120303','2013/04/04','2014-05-05',\n",
    "                        '2015-06-06T12:20'])\n",
    "ser1=pd.to_datetime(ser)\n",
    "print(ser1)"
   ]
  },
  {
   "cell_type": "code",
   "execution_count": 23,
   "metadata": {},
   "outputs": [
    {
     "name": "stdout",
     "output_type": "stream",
     "text": [
      "Original Series: \n",
      " 0           01Jan2010\n",
      "1          02-02-2011\n",
      "2            20120303\n",
      "3          2013/04/04\n",
      "4          2014-05-05\n",
      "5    2015-06-06T12:20\n",
      "dtype: object\n",
      " Day of month:\n",
      " [1, 2, 3, 4, 5, 6]\n",
      " Week number:\n",
      " [53, 5, 9, 14, 19, 23]\n",
      " Day of year:\n",
      " [1, 33, 63, 94, 125, 157]\n",
      " Day of week:\n",
      " [4, 2, 5, 3, 0, 5]\n"
     ]
    }
   ],
   "source": [
    "# 13. Get the day of month, week number, day of year and day of week from ser.\n",
    "from dateutil.parser import parse\n",
    "ser=pd.Series(['01Jan2010','02-02-2011','20120303','2013/04/04','2014-05-05','2015-06-06T12:20'])\n",
    "print(\"Original Series: \\n\",ser)\n",
    "ser1=ser.map(lambda x: parse(x))\n",
    "print(\" Day of month:\\n\",ser1.dt.day.tolist())\n",
    "print(\" Week number:\\n\",ser1.dt.week.tolist())\n",
    "print(\" Day of year:\\n\",ser1.dt.dayofyear.tolist())\n",
    "print(\" Day of week:\\n\",ser1.dt.dayofweek.tolist())\n"
   ]
  },
  {
   "cell_type": "code",
   "execution_count": 25,
   "metadata": {},
   "outputs": [
    {
     "data": {
      "text/plain": [
       "18.16590212458495"
      ]
     },
     "execution_count": 25,
     "metadata": {},
     "output_type": "execute_result"
    }
   ],
   "source": [
    "# 14. Compute the euclidean distance between series (points) p and q, without using a packaged formula.\n",
    "p = pd.Series([1, 2, 3, 4, 5, 6, 7, 8, 9, 10])\n",
    "q = pd.Series([10, 9, 8, 7, 6, 5, 4, 3, 2, 1])\n",
    "result=sum((p-q)**2)**0.5\n",
    "result"
   ]
  },
  {
   "cell_type": "code",
   "execution_count": 26,
   "metadata": {},
   "outputs": [
    {
     "data": {
      "text/plain": [
       "2000-01-01    9\n",
       "2000-01-08    9\n",
       "2000-01-15    4\n",
       "2000-01-22    2\n",
       "2000-01-29    2\n",
       "2000-02-05    1\n",
       "2000-02-12    3\n",
       "2000-02-19    6\n",
       "2000-02-26    7\n",
       "2000-03-04    4\n",
       "Freq: W-SAT, dtype: int32"
      ]
     },
     "execution_count": 26,
     "metadata": {},
     "output_type": "execute_result"
    }
   ],
   "source": [
    "# 15. How to create a TimeSeries starting ‘2000-01-01’ and 10 weekends (saturdays/sundays)\n",
    "import pandas as pd\n",
    "from random import randint\n",
    "ser=pd.Series(np.random.randint(1,10,10),pd.date_range('2000-01-01',periods=10,freq='W-SAT'))# W-SAT means weekly saturdays\n",
    "ser"
   ]
  },
  {
   "cell_type": "code",
   "execution_count": 30,
   "metadata": {},
   "outputs": [
    {
     "data": {
      "text/html": [
       "<div>\n",
       "<style scoped>\n",
       "    .dataframe tbody tr th:only-of-type {\n",
       "        vertical-align: middle;\n",
       "    }\n",
       "\n",
       "    .dataframe tbody tr th {\n",
       "        vertical-align: top;\n",
       "    }\n",
       "\n",
       "    .dataframe thead th {\n",
       "        text-align: right;\n",
       "    }\n",
       "</style>\n",
       "<table border=\"1\" class=\"dataframe\">\n",
       "  <thead>\n",
       "    <tr style=\"text-align: right;\">\n",
       "      <th></th>\n",
       "      <th>CRIM</th>\n",
       "      <th>ZN</th>\n",
       "      <th>INDUS</th>\n",
       "      <th>CHAS</th>\n",
       "      <th>NOX</th>\n",
       "      <th>RM</th>\n",
       "      <th>AGE</th>\n",
       "      <th>DIS</th>\n",
       "      <th>RAD</th>\n",
       "      <th>TAX</th>\n",
       "      <th>PTRATIO</th>\n",
       "      <th>B</th>\n",
       "      <th>LSTAT</th>\n",
       "      <th>MEDV</th>\n",
       "    </tr>\n",
       "  </thead>\n",
       "  <tbody>\n",
       "    <tr>\n",
       "      <td>0</td>\n",
       "      <td>0.00632</td>\n",
       "      <td>18.0</td>\n",
       "      <td>2.31</td>\n",
       "      <td>0.0</td>\n",
       "      <td>0.538</td>\n",
       "      <td>6.575</td>\n",
       "      <td>65.2</td>\n",
       "      <td>4.0900</td>\n",
       "      <td>1.0</td>\n",
       "      <td>296.0</td>\n",
       "      <td>15.3</td>\n",
       "      <td>396.90</td>\n",
       "      <td>4.98</td>\n",
       "      <td>24.0</td>\n",
       "    </tr>\n",
       "    <tr>\n",
       "      <td>1</td>\n",
       "      <td>0.02731</td>\n",
       "      <td>0.0</td>\n",
       "      <td>7.07</td>\n",
       "      <td>0.0</td>\n",
       "      <td>0.469</td>\n",
       "      <td>6.421</td>\n",
       "      <td>78.9</td>\n",
       "      <td>4.9671</td>\n",
       "      <td>2.0</td>\n",
       "      <td>242.0</td>\n",
       "      <td>17.8</td>\n",
       "      <td>396.90</td>\n",
       "      <td>9.14</td>\n",
       "      <td>21.6</td>\n",
       "    </tr>\n",
       "    <tr>\n",
       "      <td>2</td>\n",
       "      <td>0.02729</td>\n",
       "      <td>0.0</td>\n",
       "      <td>7.07</td>\n",
       "      <td>0.0</td>\n",
       "      <td>0.469</td>\n",
       "      <td>7.185</td>\n",
       "      <td>61.1</td>\n",
       "      <td>4.9671</td>\n",
       "      <td>2.0</td>\n",
       "      <td>242.0</td>\n",
       "      <td>17.8</td>\n",
       "      <td>392.83</td>\n",
       "      <td>4.03</td>\n",
       "      <td>34.7</td>\n",
       "    </tr>\n",
       "    <tr>\n",
       "      <td>3</td>\n",
       "      <td>0.03237</td>\n",
       "      <td>0.0</td>\n",
       "      <td>2.18</td>\n",
       "      <td>0.0</td>\n",
       "      <td>0.458</td>\n",
       "      <td>6.998</td>\n",
       "      <td>45.8</td>\n",
       "      <td>6.0622</td>\n",
       "      <td>3.0</td>\n",
       "      <td>222.0</td>\n",
       "      <td>18.7</td>\n",
       "      <td>394.63</td>\n",
       "      <td>2.94</td>\n",
       "      <td>33.4</td>\n",
       "    </tr>\n",
       "    <tr>\n",
       "      <td>4</td>\n",
       "      <td>0.06905</td>\n",
       "      <td>0.0</td>\n",
       "      <td>2.18</td>\n",
       "      <td>0.0</td>\n",
       "      <td>0.458</td>\n",
       "      <td>7.147</td>\n",
       "      <td>54.2</td>\n",
       "      <td>6.0622</td>\n",
       "      <td>3.0</td>\n",
       "      <td>222.0</td>\n",
       "      <td>18.7</td>\n",
       "      <td>396.90</td>\n",
       "      <td>5.33</td>\n",
       "      <td>36.2</td>\n",
       "    </tr>\n",
       "  </tbody>\n",
       "</table>\n",
       "</div>"
      ],
      "text/plain": [
       "      CRIM    ZN  INDUS  CHAS    NOX     RM   AGE     DIS  RAD    TAX  \\\n",
       "0  0.00632  18.0   2.31   0.0  0.538  6.575  65.2  4.0900  1.0  296.0   \n",
       "1  0.02731   0.0   7.07   0.0  0.469  6.421  78.9  4.9671  2.0  242.0   \n",
       "2  0.02729   0.0   7.07   0.0  0.469  7.185  61.1  4.9671  2.0  242.0   \n",
       "3  0.03237   0.0   2.18   0.0  0.458  6.998  45.8  6.0622  3.0  222.0   \n",
       "4  0.06905   0.0   2.18   0.0  0.458  7.147  54.2  6.0622  3.0  222.0   \n",
       "\n",
       "   PTRATIO       B  LSTAT  MEDV  \n",
       "0     15.3  396.90   4.98  24.0  \n",
       "1     17.8  396.90   9.14  21.6  \n",
       "2     17.8  392.83   4.03  34.7  \n",
       "3     18.7  394.63   2.94  33.4  \n",
       "4     18.7  396.90   5.33  36.2  "
      ]
     },
     "execution_count": 30,
     "metadata": {},
     "output_type": "execute_result"
    }
   ],
   "source": [
    "# 16  Import every 50th row of BostonHousing dataset as a dataframe.\n",
    "boston_df=pd.read_csv(r'C:\\Datascience datasets\\boston_house_price.csv')\n",
    "boston_df.head()"
   ]
  },
  {
   "cell_type": "code",
   "execution_count": 36,
   "metadata": {},
   "outputs": [
    {
     "data": {
      "text/html": [
       "<div>\n",
       "<style scoped>\n",
       "    .dataframe tbody tr th:only-of-type {\n",
       "        vertical-align: middle;\n",
       "    }\n",
       "\n",
       "    .dataframe tbody tr th {\n",
       "        vertical-align: top;\n",
       "    }\n",
       "\n",
       "    .dataframe thead th {\n",
       "        text-align: right;\n",
       "    }\n",
       "</style>\n",
       "<table border=\"1\" class=\"dataframe\">\n",
       "  <thead>\n",
       "    <tr style=\"text-align: right;\">\n",
       "      <th></th>\n",
       "      <th>0</th>\n",
       "      <th>50</th>\n",
       "      <th>100</th>\n",
       "      <th>150</th>\n",
       "      <th>200</th>\n",
       "      <th>250</th>\n",
       "      <th>300</th>\n",
       "      <th>350</th>\n",
       "      <th>400</th>\n",
       "      <th>450</th>\n",
       "      <th>500</th>\n",
       "    </tr>\n",
       "  </thead>\n",
       "  <tbody>\n",
       "    <tr>\n",
       "      <td>CRIM</td>\n",
       "      <td>0.00632</td>\n",
       "      <td>0.08873</td>\n",
       "      <td>0.14866</td>\n",
       "      <td>1.6566</td>\n",
       "      <td>0.01778</td>\n",
       "      <td>0.1403</td>\n",
       "      <td>0.04417</td>\n",
       "      <td>0.06211</td>\n",
       "      <td>25.0461</td>\n",
       "      <td>6.71772</td>\n",
       "      <td>0.22438</td>\n",
       "    </tr>\n",
       "    <tr>\n",
       "      <td>ZN</td>\n",
       "      <td>18.00000</td>\n",
       "      <td>21.00000</td>\n",
       "      <td>0.00000</td>\n",
       "      <td>0.0000</td>\n",
       "      <td>95.00000</td>\n",
       "      <td>22.0000</td>\n",
       "      <td>70.00000</td>\n",
       "      <td>40.00000</td>\n",
       "      <td>0.0000</td>\n",
       "      <td>0.00000</td>\n",
       "      <td>0.00000</td>\n",
       "    </tr>\n",
       "    <tr>\n",
       "      <td>INDUS</td>\n",
       "      <td>2.31000</td>\n",
       "      <td>5.64000</td>\n",
       "      <td>8.56000</td>\n",
       "      <td>19.5800</td>\n",
       "      <td>1.47000</td>\n",
       "      <td>5.8600</td>\n",
       "      <td>2.24000</td>\n",
       "      <td>1.25000</td>\n",
       "      <td>18.1000</td>\n",
       "      <td>18.10000</td>\n",
       "      <td>9.69000</td>\n",
       "    </tr>\n",
       "    <tr>\n",
       "      <td>CHAS</td>\n",
       "      <td>0.00000</td>\n",
       "      <td>0.00000</td>\n",
       "      <td>0.00000</td>\n",
       "      <td>0.0000</td>\n",
       "      <td>0.00000</td>\n",
       "      <td>0.0000</td>\n",
       "      <td>0.00000</td>\n",
       "      <td>0.00000</td>\n",
       "      <td>0.0000</td>\n",
       "      <td>0.00000</td>\n",
       "      <td>0.00000</td>\n",
       "    </tr>\n",
       "    <tr>\n",
       "      <td>NOX</td>\n",
       "      <td>0.53800</td>\n",
       "      <td>0.43900</td>\n",
       "      <td>0.52000</td>\n",
       "      <td>0.8710</td>\n",
       "      <td>0.40300</td>\n",
       "      <td>0.4310</td>\n",
       "      <td>0.40000</td>\n",
       "      <td>0.42900</td>\n",
       "      <td>0.6930</td>\n",
       "      <td>0.71300</td>\n",
       "      <td>0.58500</td>\n",
       "    </tr>\n",
       "    <tr>\n",
       "      <td>RM</td>\n",
       "      <td>6.57500</td>\n",
       "      <td>5.96300</td>\n",
       "      <td>6.72700</td>\n",
       "      <td>6.1220</td>\n",
       "      <td>7.13500</td>\n",
       "      <td>6.4870</td>\n",
       "      <td>6.87100</td>\n",
       "      <td>6.49000</td>\n",
       "      <td>5.9870</td>\n",
       "      <td>6.74900</td>\n",
       "      <td>6.02700</td>\n",
       "    </tr>\n",
       "    <tr>\n",
       "      <td>AGE</td>\n",
       "      <td>65.20000</td>\n",
       "      <td>45.70000</td>\n",
       "      <td>79.90000</td>\n",
       "      <td>97.3000</td>\n",
       "      <td>13.90000</td>\n",
       "      <td>13.0000</td>\n",
       "      <td>47.40000</td>\n",
       "      <td>44.40000</td>\n",
       "      <td>100.0000</td>\n",
       "      <td>92.60000</td>\n",
       "      <td>79.70000</td>\n",
       "    </tr>\n",
       "    <tr>\n",
       "      <td>DIS</td>\n",
       "      <td>4.09000</td>\n",
       "      <td>6.81470</td>\n",
       "      <td>2.77780</td>\n",
       "      <td>1.6180</td>\n",
       "      <td>7.65340</td>\n",
       "      <td>7.3967</td>\n",
       "      <td>7.82780</td>\n",
       "      <td>8.79210</td>\n",
       "      <td>1.5888</td>\n",
       "      <td>2.32360</td>\n",
       "      <td>2.49820</td>\n",
       "    </tr>\n",
       "    <tr>\n",
       "      <td>RAD</td>\n",
       "      <td>1.00000</td>\n",
       "      <td>4.00000</td>\n",
       "      <td>5.00000</td>\n",
       "      <td>5.0000</td>\n",
       "      <td>3.00000</td>\n",
       "      <td>7.0000</td>\n",
       "      <td>5.00000</td>\n",
       "      <td>1.00000</td>\n",
       "      <td>24.0000</td>\n",
       "      <td>24.00000</td>\n",
       "      <td>6.00000</td>\n",
       "    </tr>\n",
       "    <tr>\n",
       "      <td>TAX</td>\n",
       "      <td>296.00000</td>\n",
       "      <td>243.00000</td>\n",
       "      <td>384.00000</td>\n",
       "      <td>403.0000</td>\n",
       "      <td>402.00000</td>\n",
       "      <td>330.0000</td>\n",
       "      <td>358.00000</td>\n",
       "      <td>335.00000</td>\n",
       "      <td>666.0000</td>\n",
       "      <td>666.00000</td>\n",
       "      <td>391.00000</td>\n",
       "    </tr>\n",
       "    <tr>\n",
       "      <td>PTRATIO</td>\n",
       "      <td>15.30000</td>\n",
       "      <td>16.80000</td>\n",
       "      <td>20.90000</td>\n",
       "      <td>14.7000</td>\n",
       "      <td>17.00000</td>\n",
       "      <td>19.1000</td>\n",
       "      <td>14.80000</td>\n",
       "      <td>19.70000</td>\n",
       "      <td>20.2000</td>\n",
       "      <td>20.20000</td>\n",
       "      <td>19.20000</td>\n",
       "    </tr>\n",
       "    <tr>\n",
       "      <td>B</td>\n",
       "      <td>396.90000</td>\n",
       "      <td>395.56000</td>\n",
       "      <td>394.76000</td>\n",
       "      <td>372.8000</td>\n",
       "      <td>384.30000</td>\n",
       "      <td>396.2800</td>\n",
       "      <td>390.86000</td>\n",
       "      <td>396.90000</td>\n",
       "      <td>396.9000</td>\n",
       "      <td>0.32000</td>\n",
       "      <td>396.90000</td>\n",
       "    </tr>\n",
       "    <tr>\n",
       "      <td>LSTAT</td>\n",
       "      <td>4.98000</td>\n",
       "      <td>13.45000</td>\n",
       "      <td>9.42000</td>\n",
       "      <td>14.1000</td>\n",
       "      <td>4.45000</td>\n",
       "      <td>5.9000</td>\n",
       "      <td>6.07000</td>\n",
       "      <td>5.98000</td>\n",
       "      <td>26.7700</td>\n",
       "      <td>17.44000</td>\n",
       "      <td>14.33000</td>\n",
       "    </tr>\n",
       "    <tr>\n",
       "      <td>MEDV</td>\n",
       "      <td>24.00000</td>\n",
       "      <td>19.70000</td>\n",
       "      <td>27.50000</td>\n",
       "      <td>21.5000</td>\n",
       "      <td>32.90000</td>\n",
       "      <td>24.4000</td>\n",
       "      <td>24.80000</td>\n",
       "      <td>22.90000</td>\n",
       "      <td>5.6000</td>\n",
       "      <td>13.40000</td>\n",
       "      <td>16.80000</td>\n",
       "    </tr>\n",
       "  </tbody>\n",
       "</table>\n",
       "</div>"
      ],
      "text/plain": [
       "                 0         50        100       150        200       250  \\\n",
       "CRIM       0.00632    0.08873    0.14866    1.6566    0.01778    0.1403   \n",
       "ZN        18.00000   21.00000    0.00000    0.0000   95.00000   22.0000   \n",
       "INDUS      2.31000    5.64000    8.56000   19.5800    1.47000    5.8600   \n",
       "CHAS       0.00000    0.00000    0.00000    0.0000    0.00000    0.0000   \n",
       "NOX        0.53800    0.43900    0.52000    0.8710    0.40300    0.4310   \n",
       "RM         6.57500    5.96300    6.72700    6.1220    7.13500    6.4870   \n",
       "AGE       65.20000   45.70000   79.90000   97.3000   13.90000   13.0000   \n",
       "DIS        4.09000    6.81470    2.77780    1.6180    7.65340    7.3967   \n",
       "RAD        1.00000    4.00000    5.00000    5.0000    3.00000    7.0000   \n",
       "TAX      296.00000  243.00000  384.00000  403.0000  402.00000  330.0000   \n",
       "PTRATIO   15.30000   16.80000   20.90000   14.7000   17.00000   19.1000   \n",
       "B        396.90000  395.56000  394.76000  372.8000  384.30000  396.2800   \n",
       "LSTAT      4.98000   13.45000    9.42000   14.1000    4.45000    5.9000   \n",
       "MEDV      24.00000   19.70000   27.50000   21.5000   32.90000   24.4000   \n",
       "\n",
       "               300        350       400        450        500  \n",
       "CRIM       0.04417    0.06211   25.0461    6.71772    0.22438  \n",
       "ZN        70.00000   40.00000    0.0000    0.00000    0.00000  \n",
       "INDUS      2.24000    1.25000   18.1000   18.10000    9.69000  \n",
       "CHAS       0.00000    0.00000    0.0000    0.00000    0.00000  \n",
       "NOX        0.40000    0.42900    0.6930    0.71300    0.58500  \n",
       "RM         6.87100    6.49000    5.9870    6.74900    6.02700  \n",
       "AGE       47.40000   44.40000  100.0000   92.60000   79.70000  \n",
       "DIS        7.82780    8.79210    1.5888    2.32360    2.49820  \n",
       "RAD        5.00000    1.00000   24.0000   24.00000    6.00000  \n",
       "TAX      358.00000  335.00000  666.0000  666.00000  391.00000  \n",
       "PTRATIO   14.80000   19.70000   20.2000   20.20000   19.20000  \n",
       "B        390.86000  396.90000  396.9000    0.32000  396.90000  \n",
       "LSTAT      6.07000    5.98000   26.7700   17.44000   14.33000  \n",
       "MEDV      24.80000   22.90000    5.6000   13.40000   16.80000  "
      ]
     },
     "execution_count": 36,
     "metadata": {},
     "output_type": "execute_result"
    }
   ],
   "source": [
    "house50=pd.DataFrame(boston_df.iloc[::50,:])\n",
    "house50.T"
   ]
  },
  {
   "cell_type": "code",
   "execution_count": null,
   "metadata": {},
   "outputs": [],
   "source": []
  }
 ],
 "metadata": {
  "kernelspec": {
   "display_name": "Python 3",
   "language": "python",
   "name": "python3"
  },
  "language_info": {
   "codemirror_mode": {
    "name": "ipython",
    "version": 3
   },
   "file_extension": ".py",
   "mimetype": "text/x-python",
   "name": "python",
   "nbconvert_exporter": "python",
   "pygments_lexer": "ipython3",
   "version": "3.7.4"
  }
 },
 "nbformat": 4,
 "nbformat_minor": 2
}
